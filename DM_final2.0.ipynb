{
 "cells": [
  {
   "cell_type": "code",
   "execution_count": 4,
   "metadata": {},
   "outputs": [],
   "source": [
    "# import packages\n",
    "\n",
    "import pandas as pd\n",
    "import numpy as np\n",
    "import matplotlib.pyplot as plt\n",
    "import seaborn as sns\n"
   ]
  },
  {
   "cell_type": "code",
   "execution_count": null,
   "metadata": {},
   "outputs": [],
   "source": [
    "df = pd.read_csv('train_data.csv',index_col=0)\n",
    "df.shape"
   ]
  },
  {
   "cell_type": "markdown",
   "metadata": {},
   "source": [
    "## Data Preparation "
   ]
  },
  {
   "cell_type": "code",
   "execution_count": null,
   "metadata": {},
   "outputs": [],
   "source": [
    "def preparation(df):\n",
    "#Drop unused columns \n",
    "    df = df.drop([ 'bed_type', 'first_review', 'host_has_profile_pic','latitude','longitude','name',\n",
    "                  'neighbourhood','thumbnail_url','zipcode'], axis = 1)\n",
    "\n",
    "    # create dummies for 'property_type'\n",
    "    df['is_apt'] = df['property_type'].apply(lambda x: 1 if x=='Apartment' else 0)\n",
    "    df['is_house'] = df['property_type'].apply(lambda x: 1 if x=='House' else 0)\n",
    "    df['is_other_ppt_type'] = df['property_type'].apply(lambda x: 1 if (x!='Apartment') | (x!='House') else 0)\n",
    "\n",
    "    # Create dummies for 'room_type'\n",
    "    df['is_entireRoom'] = df['room_type'].apply(lambda x: 1 if x=='Entire home/apt' else 0)\n",
    "    df['is_privateRoom'] = df['room_type'].apply(lambda x: 1 if x=='Private room' else 0)\n",
    "    df['is_sharedRoom'] = df['room_type'].apply(lambda x: 1 if x=='Shared room' else 0)\n",
    "\n",
    "    # Ordinal variables\n",
    "    df['is_cancellation_policy'] = df['cancellation_policy'].apply(lambda x: 1 if (x =='strict') |(x =='super_strict_30')|(x =='super_strict_60') \n",
    "                                                                else (2 if x=='moderate' else 3))\n",
    "\n",
    "    # Binary variables\n",
    "    df['is_cleaning_fee'] = df['cleaning_fee'].apply(lambda x: 1 if x is True else 0)\n",
    "    df ['is_instantBookable'] = df['instant_bookable'].apply(lambda x: 1 if x == 't' else 0)\n",
    "    df ['is_instantBookable'] = df['instant_bookable'].apply(lambda x: 1 if x == 't' else 0)\n",
    "    df.host_identity_verified = df.host_identity_verified.apply(lambda x: 1 if x=='t' else 0)\n",
    "\n",
    "\n",
    "    # Change 'city' to categorical \n",
    "    df['is_city_nyc'] = df['city'].apply(lambda x: 1 if x=='NYC' else 0)\n",
    "    df['is_city_la'] = df['city'].apply(lambda x: 1 if x=='LA' else 0)\n",
    "    df['is_city_sf'] = df['city'].apply(lambda x: 1 if x=='SF' else 0)\n",
    "    df['is_city_dc'] = df['city'].apply(lambda x: 1 if x=='SF' else 0)\n",
    "    df['is_city_chicago'] = df['city'].apply(lambda x: 1 if x=='Chicago' else 0)\n",
    "\n",
    "\n",
    "    df.drop(columns = ['property_type', 'room_type', 'cancellation_policy', 'cleaning_fee', 'instant_bookable', 'instant_bookable'], axis = 1, inplace = True)\n",
    "    \n",
    "    return df"
   ]
  },
  {
   "cell_type": "code",
   "execution_count": null,
   "metadata": {},
   "outputs": [],
   "source": [
    "df = preparation(df)"
   ]
  },
  {
   "cell_type": "markdown",
   "metadata": {},
   "source": [
    "### Missing Value"
   ]
  },
  {
   "cell_type": "code",
   "execution_count": null,
   "metadata": {},
   "outputs": [],
   "source": [
    "def fill_na(df):\n",
    "    df['host_response_rate'] = df['host_response_rate'].str.rstrip('%').astype('float') / 100.0\n",
    "    df['host_response_rate'] = df['host_response_rate'].interpolate()\n",
    "    df['host_response_rate'] = df['host_response_rate'].round(2)\n",
    "\n",
    "\n",
    "    # df.bathrooms = df.bathrooms.fillna(df.bathrooms.median())\n",
    "    df['beds'] = df['beds'].interpolate().round(2).astype('int32')\n",
    "    df['bedrooms'] = df['bedrooms'].interpolate().round(2).astype('int32')\n",
    "    df['bathroom'] = df['bathroom'].interpolate().round(2).astype('int32')\n",
    "\n",
    "    df.host_response_rate = df.host_response_rate.fillna(0)\n",
    "    \n",
    "    return df"
   ]
  },
  {
   "cell_type": "code",
   "execution_count": null,
   "metadata": {},
   "outputs": [],
   "source": [
    "df = fill_na(df)"
   ]
  },
  {
   "cell_type": "markdown",
   "metadata": {},
   "source": [
    "### Feature Engineering"
   ]
  },
  {
   "cell_type": "code",
   "execution_count": null,
   "metadata": {},
   "outputs": [],
   "source": [
    "# Create 'host_days'\n",
    "df['host_since'] = pd.to_datetime(df['host_since'])\n",
    "df['last_review'] =  pd.to_datetime(df['last_review'])\n",
    "df['host_days'] = df['last_review'] - df['host_since']\n",
    "\n",
    "df.host_days = df.host_days.astype(str)\n",
    "df.loc[df['host_days']=='NaT','host_days']='0 days'\n",
    "df.drop(df[df['host_days']=='-592 days'].index,inplace=True)\n",
    "df.host_days = df.host_days.str.strip(' days').astype(int)\n",
    "\n",
    "# Engineer 'last_review' to 'last_review_year' and 'last_review_month'\n",
    "# df['last_review'] = df ['last_review'].astype('string')\n",
    "# df['last_review'].fillna(value = 'No Review',inplace = True)\n",
    "# df['last_review_year'] = df['last_review'].str[0:4]\n",
    "# df['last_review_month'] = df['last_review'].str[5:7]\n",
    "\n",
    "# df.loc[df['last_review_year']=='NaT','last_review_year']='2017' #imputed with most frequency value\n",
    "# df.last_review_year = df.last_review_year.astype(int)\n",
    "# df.loc[df['last_review_month']=='','last_review_month'] = '09'\n",
    "# df.last_review_month = df.last_review_month.astype(int)\n",
    "\n",
    "# df = pd.get_dummies(df,columns=['last_review_year'])\n",
    "# df = pd.get_dummies(df,columns=['last_review_month'])\n",
    "\n",
    "# Calculate number of beds per bedroom\n",
    "df['bath_to_bedroom'] = [df['bathrooms']/df['bedrooms'] if df.bedrooms[i]!=0 else df['bathrooms'][i] for i in range(len(df.bedrooms))]\n",
    "df['ppl_to_beds'] = df['accomodates']/df['beds']\n",
    "\n",
    "\n",
    "df.drop(columns = ['beds', 'bathroom', 'host_since', 'last_review'], axis = 1, inplace = True)"
   ]
  },
  {
   "cell_type": "code",
   "execution_count": null,
   "metadata": {},
   "outputs": [],
   "source": [
    "# convert to uint for saving storage\n",
    "df.is_instantBookable = df.is_instantBookable.astype('uint8')\n",
    "\n",
    "df.host_identity_verified = df.host_identity_verified.astype('uint8')\n",
    "\n",
    "df.is_apt = df.is_apt.astype('uint8')\n",
    "\n",
    "df.is_house = df.is_house.astype('uint8')\n",
    "\n",
    "df.is_other_ppt_type = df.is_other_ppt_type.astype('uint8')\n",
    "\n",
    "df.is_entireRoom = df.is_entireRoom.astype('uint8')\n",
    "\n",
    "df.is_privateRoom = df.is_privateRoom.astype('uint8')\n",
    "\n",
    "df.is_sharedRoom = df.is_sharedRoom.astype('uint8')\n",
    "\n",
    "df.is_clean_fee = df.is_clean_fee.astype('uint8')"
   ]
  },
  {
   "cell_type": "markdown",
   "metadata": {},
   "source": [
    "## Text Data Engineering"
   ]
  },
  {
   "cell_type": "markdown",
   "metadata": {},
   "source": [
    "#### Amenities"
   ]
  },
  {
   "cell_type": "code",
   "execution_count": null,
   "metadata": {},
   "outputs": [],
   "source": [
    "# !pip install mlxtend"
   ]
  },
  {
   "cell_type": "code",
   "execution_count": null,
   "metadata": {},
   "outputs": [],
   "source": [
    "from mlxtend.preprocessing import TransactionEncoder"
   ]
  },
  {
   "cell_type": "code",
   "execution_count": null,
   "metadata": {},
   "outputs": [],
   "source": [
    "pd.set_option('display.max_columns', None)\n",
    "\n",
    "amenities = df.amenities\n",
    "\n",
    "import regex as re\n",
    "lt, lst=[],[]\n",
    "for items in amenities:\n",
    "    items = items.split(',')\n",
    "    for item in items:\n",
    "        item = re.sub(r'[\"{}]', '', item)\n",
    "        item = item.strip()\n",
    "        if item != '':\n",
    "            lt.append(item)\n",
    "    lst.append(lt)\n",
    "    lt=[]\n",
    "    \n",
    "te = TransactionEncoder()\n",
    "te_ary = te.fit(lst).transform(lst)\n",
    "te_ary.astype(\"int\")\n",
    "\n",
    "amnt_df=pd.DataFrame(te_ary, columns=te.columns_)\n",
    "amnt_df = amnt_df.astype(int)"
   ]
  },
  {
   "cell_type": "code",
   "execution_count": null,
   "metadata": {},
   "outputs": [],
   "source": [
    "for i in amnt_df.columns:\n",
    "  if i in ['Children’s books and toys', 'Pack ’n Play/travel crib','Family/kid friendly']:\n",
    "    amnt_df = amnt_df.rename(columns= {i: 'baby_friendly'})\n",
    "  elif i in ['Garden or backyard','Patio or balcony']:\n",
    "    amnt_df = amnt_df.rename(columns= {i: 'garden_patio'})\n",
    "  elif i in ['Coffee maker','Oven','Microwave','Stove','Refrigerator','Dryer','Washer','Iron','Hair dryer']:\n",
    "    amnt_df = amnt_df.rename(columns= {i: 'household_appliances'})\n",
    "  elif i in ['Doorman','Lockbox','Private entrance','Safety card','Self Check-In','Lock on bedroom door','Buzzer/wireless intercom','24-hour check-in','First aid kit','Fire extinguisher']:\n",
    "    amnt_df = amnt_df.rename(columns= {i: 'good_security_system'})\n",
    "  elif i in ['Extra pillows and blankets','Bed linens']:\n",
    "    amnt_df = amnt_df.rename(columns= {i: 'bedroom_essentials'})\n",
    "  elif i in ['Wheelchair accessible']:\n",
    "    amnt_df = amnt_df.rename(columns= {i: 'Wheelchair_accessible'})\n",
    "  elif i in ['Keypad','Laptop friendly workspace','Internet']:\n",
    "    amnt_df = amnt_df.rename(columns= {i: 'good_working_environment'})\n",
    "  elif i in ['Dishwasher','Cooking basics','Hot water','Dishes and silverware']:\n",
    "    amnt_df = amnt_df.rename(columns= {i: 'kitchen_essentials'})\n",
    "  elif i in ['Cat(s)','Dog(s)','Pets allowed','Pets live on this property']:\n",
    "    amnt_df = amnt_df.rename(columns= {i: 'pets_allowed'})\n",
    "  elif i in ['Pool','Gym']:\n",
    "    amnt_df = amnt_df.rename(columns= {i: 'gym_pool'})\n",
    "  elif i in ['Elevator in building','Elevator']:\n",
    "    amnt_df = amnt_df.rename(columns= {i: 'elevator'})\n",
    "  elif i in ['Bathtub','Hot tub', 'Shampoo']:\n",
    "    amnt_df = amnt_df.rename(columns= {i: 'bathroom_essentials'})\n",
    "  elif i in ['Breakfast']:\n",
    "    amnt_df = amnt_df.rename(columns= {i: 'breakfast'})\n",
    "  elif i in ['Indoor fireplace']:\n",
    "    amnt_df = amnt_df.rename(columns= {i: 'fireplace'})\n",
    "  elif i in['Free parking on premises']:\n",
    "    amnt_df = amnt_df.rename(columns= {i: 'free_parking'})\n",
    "  elif i in ['Hangers']:\n",
    "    amnt_df = amnt_df.rename(columns= {i: 'hangers'})\n",
    "  elif i in ['Air conditioning']:\n",
    "    amnt_df = amnt_df.rename(columns= {i: 'air_conditioning'})\n",
    "\n",
    "    \n",
    "amnt_df = amnt_df.groupby(level=0, axis=1).sum()\n",
    "amnt_df = pd.DataFrame(np.where(amnt_df>=1, 1, 0), columns=amnt_df.columns)\n",
    "amnt_df = amnt_df[['baby_friendly','garden_patio','household_appliances','good_security_system',\n",
    "                   'bedroom_essentials','Wheelchair_accessible','good_working_environment','kitchen_essentials',\n",
    "                   'pets_allowed','gym_pool','elevator','bathroom_essentials','breakfast','fireplace',\n",
    "                   'free_parking','hangers','air_conditioning']]"
   ]
  },
  {
   "cell_type": "code",
   "execution_count": null,
   "metadata": {},
   "outputs": [],
   "source": [
    "df.reset_index(inplace = True) \n",
    "df = pd.concat([df, amnt_df], axis=1)"
   ]
  },
  {
   "cell_type": "markdown",
   "metadata": {},
   "source": [
    "#### Description"
   ]
  },
  {
   "cell_type": "code",
   "execution_count": null,
   "metadata": {},
   "outputs": [],
   "source": []
  },
  {
   "cell_type": "markdown",
   "metadata": {},
   "source": [
    "## Model Engineering"
   ]
  },
  {
   "cell_type": "code",
   "execution_count": null,
   "metadata": {},
   "outputs": [],
   "source": []
  }
 ],
 "metadata": {
  "kernelspec": {
   "display_name": "Python 3",
   "language": "python",
   "name": "python3"
  },
  "language_info": {
   "codemirror_mode": {
    "name": "ipython",
    "version": 3
   },
   "file_extension": ".py",
   "mimetype": "text/x-python",
   "name": "python",
   "nbconvert_exporter": "python",
   "pygments_lexer": "ipython3",
   "version": "3.8.5"
  }
 },
 "nbformat": 4,
 "nbformat_minor": 4
}
